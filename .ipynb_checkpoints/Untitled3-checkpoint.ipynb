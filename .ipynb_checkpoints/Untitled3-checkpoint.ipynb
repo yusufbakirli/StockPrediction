{
 "cells": [
  {
   "cell_type": "code",
   "execution_count": 1,
   "id": "86d04f53",
   "metadata": {},
   "outputs": [],
   "source": [
    "# Gerekli kütüphaneler\n",
    "import numpy as np\n",
    "import pandas as pd\n",
    "import yfinance as yf\n",
    "from sklearn.preprocessing import MinMaxScaler\n",
    "from tensorflow.keras.models import Sequential\n",
    "from tensorflow.keras.layers import LSTM, Dense\n",
    "import matplotlib.pyplot as plt\n",
    "import datetime"
   ]
  },
  {
   "cell_type": "code",
   "execution_count": 2,
   "id": "c9aee963",
   "metadata": {},
   "outputs": [],
   "source": [
    "# Veriyi çekme\n",
    "def get_stock_data(symbol, start_date, end_date):\n",
    "    \"\"\"\n",
    "    Bu fonksiyon, verilen hisse senedi sembolü için tarih aralığında veri çeker.\n",
    "    \"\"\"\n",
    "    data = yf.download(symbol, start=start_date, end=end_date)\n",
    "    return data['Close']  # Kapanış fiyatları"
   ]
  },
  {
   "cell_type": "code",
   "execution_count": 3,
   "id": "3b7b1b55",
   "metadata": {},
   "outputs": [],
   "source": [
    "# Bitiş tarihini bir gün önceye alma\n",
    "def adjust_end_date():\n",
    "    \"\"\"\n",
    "    Bu fonksiyon, bitiş tarihini bir gün öncesine ayarlamak için kullanılır.\n",
    "    \"\"\"\n",
    "    end_date = datetime.datetime.today()\n",
    "    end_date = end_date - datetime.timedelta(days=1)  # Bitiş tarihini bir gün önceye al\n",
    "    return end_date.strftime('%Y-%m-%d')"
   ]
  },
  {
   "cell_type": "code",
   "execution_count": 4,
   "id": "427c78f0",
   "metadata": {},
   "outputs": [],
   "source": [
    "# Modeli oluşturma ve eğitme\n",
    "def train_model(symbol, start_date=\"2023-01-01\", end_date = adjust_end_date()):\n",
    "    \"\"\"\n",
    "    Modeli eğitmek için bu fonksiyon kullanılır.\n",
    "    \"\"\"\n",
    "    # Bitiş tarihini bir gün önceye ayarla\n",
    "    end_date = adjust_end_date()\n",
    "    \n",
    "    # Veriyi al\n",
    "    data = get_stock_data(symbol, start_date, end_date)\n",
    "    \n",
    "    # Veriyi ölçeklendir\n",
    "    scaler = MinMaxScaler(feature_range=(0, 1))\n",
    "    scaled_data = scaler.fit_transform(data.values.reshape(-1, 1))\n",
    "    \n",
    "    # Veriyi hazırlama\n",
    "    X, y = [], []\n",
    "    for i in range(60, len(scaled_data)):  # 60 günün verisiyle tahmin yapılacak\n",
    "        X.append(scaled_data[i-60:i, 0])\n",
    "        y.append(scaled_data[i, 0])\n",
    "    \n",
    "    X, y = np.array(X), np.array(y)\n",
    "    X = X.reshape(X.shape[0], X.shape[1], 1)  # LSTM için uygun şekil\n",
    "\n",
    "    # Modeli oluştur\n",
    "    model = Sequential()\n",
    "    model.add(LSTM(units=50, return_sequences=True, input_shape=(X.shape[1], 1)))\n",
    "    model.add(LSTM(units=50))\n",
    "    model.add(Dense(units=1))  # Tahmin edilen kapanış fiyatı\n",
    "    \n",
    "    model.compile(optimizer='adam', loss='mean_squared_error')\n",
    "\n",
    "    # Modeli eğit\n",
    "    model.fit(X, y, epochs=10, batch_size=32)\n",
    "    \n",
    "    # Modeli kaydet\n",
    "    model.save('stock_prediction_model.h5')\n",
    "    \n",
    "    return model, scaler"
   ]
  },
  {
   "cell_type": "code",
   "execution_count": 5,
   "id": "73f508bf",
   "metadata": {},
   "outputs": [],
   "source": [
    "# Tahmin yapma\n",
    "def make_prediction(model, scaler, symbol, start_date=\"2023-01-01\", end_date = adjust_end_date()):\n",
    "    \"\"\"\n",
    "    Model ile tahmin yapmak için bu fonksiyon kullanılır.\n",
    "    \"\"\"\n",
    "    \n",
    "    # Veriyi al\n",
    "    data = get_stock_data(symbol, start_date, end_date)\n",
    "    \n",
    "    # Son 60 günü al\n",
    "    recent_data = data.values[-60:]\n",
    "    scaled_data = scaler.transform(recent_data.reshape(-1, 1))\n",
    "    \n",
    "    # Model ile tahmin yap\n",
    "    X_input = scaled_data.reshape(1, 60, 1)\n",
    "    predicted_price = model.predict(X_input)\n",
    "    predicted_price = scaler.inverse_transform(predicted_price)\n",
    "    \n",
    "    return predicted_price[0][0]"
   ]
  },
  {
   "cell_type": "code",
   "execution_count": 6,
   "id": "0adfd9b1",
   "metadata": {},
   "outputs": [
    {
     "name": "stdin",
     "output_type": "stream",
     "text": [
      "Tahmin yapmak istediğiniz hisse senedi sembolünü girin (örneğin, AAPL):  AAPL\n"
     ]
    }
   ],
   "source": [
    "# Kullanıcıdan hisse sembolü al\n",
    "symbol = input(\"Tahmin yapmak istediğiniz hisse senedi sembolünü girin (örneğin, AAPL): \")"
   ]
  },
  {
   "cell_type": "code",
   "execution_count": 7,
   "id": "a1512cc8",
   "metadata": {},
   "outputs": [
    {
     "name": "stderr",
     "output_type": "stream",
     "text": [
      "[*********************100%***********************]  1 of 1 completed"
     ]
    },
    {
     "name": "stdout",
     "output_type": "stream",
     "text": [
      "Epoch 1/10\n"
     ]
    },
    {
     "name": "stderr",
     "output_type": "stream",
     "text": [
      "\n",
      "C:\\Users\\Yusuf\\anaconda3\\Lib\\site-packages\\keras\\src\\layers\\rnn\\rnn.py:200: UserWarning: Do not pass an `input_shape`/`input_dim` argument to a layer. When using Sequential models, prefer using an `Input(shape)` object as the first layer in the model instead.\n",
      "  super().__init__(**kwargs)\n"
     ]
    },
    {
     "name": "stdout",
     "output_type": "stream",
     "text": [
      "\u001b[1m14/14\u001b[0m \u001b[32m━━━━━━━━━━━━━━━━━━━━\u001b[0m\u001b[37m\u001b[0m \u001b[1m2s\u001b[0m 18ms/step - loss: 0.1373\n",
      "Epoch 2/10\n",
      "\u001b[1m14/14\u001b[0m \u001b[32m━━━━━━━━━━━━━━━━━━━━\u001b[0m\u001b[37m\u001b[0m \u001b[1m0s\u001b[0m 18ms/step - loss: 0.0098\n",
      "Epoch 3/10\n",
      "\u001b[1m14/14\u001b[0m \u001b[32m━━━━━━━━━━━━━━━━━━━━\u001b[0m\u001b[37m\u001b[0m \u001b[1m0s\u001b[0m 18ms/step - loss: 0.0055\n",
      "Epoch 4/10\n",
      "\u001b[1m14/14\u001b[0m \u001b[32m━━━━━━━━━━━━━━━━━━━━\u001b[0m\u001b[37m\u001b[0m \u001b[1m0s\u001b[0m 18ms/step - loss: 0.0041\n",
      "Epoch 5/10\n",
      "\u001b[1m14/14\u001b[0m \u001b[32m━━━━━━━━━━━━━━━━━━━━\u001b[0m\u001b[37m\u001b[0m \u001b[1m0s\u001b[0m 17ms/step - loss: 0.0030\n",
      "Epoch 6/10\n",
      "\u001b[1m14/14\u001b[0m \u001b[32m━━━━━━━━━━━━━━━━━━━━\u001b[0m\u001b[37m\u001b[0m \u001b[1m0s\u001b[0m 17ms/step - loss: 0.0031\n",
      "Epoch 7/10\n",
      "\u001b[1m14/14\u001b[0m \u001b[32m━━━━━━━━━━━━━━━━━━━━\u001b[0m\u001b[37m\u001b[0m \u001b[1m0s\u001b[0m 18ms/step - loss: 0.0024\n",
      "Epoch 8/10\n",
      "\u001b[1m14/14\u001b[0m \u001b[32m━━━━━━━━━━━━━━━━━━━━\u001b[0m\u001b[37m\u001b[0m \u001b[1m0s\u001b[0m 18ms/step - loss: 0.0026\n",
      "Epoch 9/10\n",
      "\u001b[1m14/14\u001b[0m \u001b[32m━━━━━━━━━━━━━━━━━━━━\u001b[0m\u001b[37m\u001b[0m \u001b[1m0s\u001b[0m 17ms/step - loss: 0.0025\n",
      "Epoch 10/10\n",
      "\u001b[1m14/14\u001b[0m \u001b[32m━━━━━━━━━━━━━━━━━━━━\u001b[0m\u001b[37m\u001b[0m \u001b[1m0s\u001b[0m 18ms/step - loss: 0.0029\n"
     ]
    },
    {
     "name": "stderr",
     "output_type": "stream",
     "text": [
      "WARNING:absl:You are saving your model as an HDF5 file via `model.save()` or `keras.saving.save_model(model)`. This file format is considered legacy. We recommend using instead the native Keras format, e.g. `model.save('my_model.keras')` or `keras.saving.save_model(model, 'my_model.keras')`. \n"
     ]
    }
   ],
   "source": [
    "# Modeli eğit\n",
    "model, scaler = train_model(symbol)"
   ]
  },
  {
   "cell_type": "code",
   "execution_count": 8,
   "id": "66f6196b",
   "metadata": {},
   "outputs": [
    {
     "name": "stderr",
     "output_type": "stream",
     "text": [
      "[*********************100%***********************]  1 of 1 completed"
     ]
    },
    {
     "name": "stdout",
     "output_type": "stream",
     "text": [
      "\u001b[1m1/1\u001b[0m \u001b[32m━━━━━━━━━━━━━━━━━━━━\u001b[0m\u001b[37m\u001b[0m \u001b[1m0s\u001b[0m 164ms/step"
     ]
    },
    {
     "name": "stderr",
     "output_type": "stream",
     "text": [
      "\n"
     ]
    },
    {
     "name": "stdout",
     "output_type": "stream",
     "text": [
      "\u001b[1m1/1\u001b[0m \u001b[32m━━━━━━━━━━━━━━━━━━━━\u001b[0m\u001b[37m\u001b[0m \u001b[1m0s\u001b[0m 177ms/step\n",
      "AAPL için tahmin edilen fiyat: 238.06 USD\n"
     ]
    }
   ],
   "source": [
    "# Tahmin yap\n",
    "predicted_price = make_prediction(model, scaler, symbol)\n",
    "print(f\"{symbol} için tahmin edilen fiyat: {predicted_price:.2f} USD\")"
   ]
  },
  {
   "cell_type": "code",
   "execution_count": null,
   "id": "228a037a",
   "metadata": {},
   "outputs": [],
   "source": []
  }
 ],
 "metadata": {
  "kernelspec": {
   "display_name": "Python 3 (ipykernel)",
   "language": "python",
   "name": "python3"
  },
  "language_info": {
   "codemirror_mode": {
    "name": "ipython",
    "version": 3
   },
   "file_extension": ".py",
   "mimetype": "text/x-python",
   "name": "python",
   "nbconvert_exporter": "python",
   "pygments_lexer": "ipython3",
   "version": "3.12.7"
  }
 },
 "nbformat": 4,
 "nbformat_minor": 5
}
