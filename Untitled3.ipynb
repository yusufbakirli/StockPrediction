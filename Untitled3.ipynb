{
 "cells": [
  {
   "cell_type": "code",
   "execution_count": 31,
   "id": "86d04f53",
   "metadata": {},
   "outputs": [],
   "source": [
    "# Gerekli kütüphaneler\n",
    "import numpy as np\n",
    "import pandas as pd\n",
    "import yfinance as yf\n",
    "from sklearn.preprocessing import MinMaxScaler\n",
    "from sklearn.metrics import mean_squared_error, f1_score\n",
    "from tensorflow.keras.models import Sequential\n",
    "from tensorflow.keras.layers import LSTM, Dense\n",
    "import matplotlib.pyplot as plt\n",
    "import datetime"
   ]
  },
  {
   "cell_type": "code",
   "execution_count": 32,
   "id": "c9aee963",
   "metadata": {},
   "outputs": [],
   "source": [
    "# Veriyi çekme\n",
    "def get_stock_data(symbol, start_date, end_date):\n",
    "    data = yf.download(symbol, start=start_date, end=end_date)\n",
    "    return data['Close']"
   ]
  },
  {
   "cell_type": "code",
   "execution_count": 33,
   "id": "3b7b1b55",
   "metadata": {},
   "outputs": [],
   "source": [
    "# Bitiş tarihini bir gün önceye alma\n",
    "def adjust_end_date():\n",
    "    end_date = datetime.datetime.today() - datetime.timedelta(days=1)\n",
    "    return end_date.strftime('%Y-%m-%d')"
   ]
  },
  {
   "cell_type": "code",
   "execution_count": 44,
   "id": "df700f7e-8e67-4389-99a9-4a021468c4c3",
   "metadata": {},
   "outputs": [],
   "source": [
    "# Modelin eğitim ve doğrulama başarım grafiğini çizme\n",
    "def plot_training_accuracy(history):\n",
    "    \"\"\"\n",
    "    Modelin eğitim ve doğrulama başarımını (accuracy) grafikte gösterir.\n",
    "    Eğitim başarımı noktalarla, doğrulama başarımı kesik çizgilerle çizilir.\n",
    "    \"\"\"\n",
    "    # Eğitim ve doğrulama doğruluğu\n",
    "    accuracy = history.history.get('accuracy', [])\n",
    "    val_accuracy = history.history.get('val_accuracy', [])\n",
    "    \n",
    "    epochs = range(1, len(accuracy) + 1)\n",
    "    \n",
    "    # Grafik çizimi\n",
    "    plt.figure(figsize=(10, 6))\n",
    "    plt.plot(epochs, accuracy, 'bo-', label='Eğitim Başarımı')  # 'bo-' noktalar\n",
    "    plt.plot(epochs, val_accuracy, 'r--', label='Doğrulama Başarımı')  # 'r--' kesik çizgiler\n",
    "    plt.title('Eğitim ve Doğrulama Başarımı')\n",
    "    plt.xlabel('Epochs')\n",
    "    plt.ylabel('Başarım (Accuracy)')\n",
    "    plt.legend()\n",
    "    plt.grid()\n",
    "    plt.show()\n"
   ]
  },
  {
   "cell_type": "code",
   "execution_count": 45,
   "id": "427c78f0",
   "metadata": {},
   "outputs": [],
   "source": [
    "def train_model(symbol, start_date=\"2023-01-01\", end_date=adjust_end_date()):\n",
    "    end_date = adjust_end_date()\n",
    "    data = get_stock_data(symbol, start_date, end_date)\n",
    "    \n",
    "    # Veriyi ölçeklendir\n",
    "    scaler = MinMaxScaler(feature_range=(0, 1))\n",
    "    scaled_data = scaler.fit_transform(data.values.reshape(-1, 1))\n",
    "    \n",
    "    # Veriyi bölme: Eğitim (%80) ve Test (%20)\n",
    "    train_size = int(len(scaled_data) * 0.8)\n",
    "    train_data = scaled_data[:train_size]\n",
    "    test_data = scaled_data[train_size:]\n",
    "    \n",
    "    # Eğitim verilerini hazırlama\n",
    "    X_train, y_train = [], []\n",
    "    for i in range(60, len(train_data)):\n",
    "        X_train.append(train_data[i-60:i, 0])\n",
    "        y_train.append(train_data[i, 0])\n",
    "    X_train, y_train = np.array(X_train), np.array(y_train)\n",
    "    X_train = X_train.reshape(X_train.shape[0], X_train.shape[1], 1)\n",
    "    \n",
    "    # Test verilerini hazırlama\n",
    "    X_test, y_test = [], []\n",
    "    for i in range(60, len(test_data)):\n",
    "        X_test.append(test_data[i-60:i, 0])\n",
    "        y_test.append(test_data[i, 0])\n",
    "    X_test, y_test = np.array(X_test), np.array(y_test)\n",
    "    X_test = X_test.reshape(X_test.shape[0], X_test.shape[1], 1)\n",
    "    \n",
    "    # Modeli oluştur\n",
    "    model = Sequential()\n",
    "    model.add(LSTM(units=50, return_sequences=True, input_shape=(X_train.shape[1], 1)))\n",
    "    model.add(LSTM(units=50))\n",
    "    model.add(Dense(units=1))\n",
    "    \n",
    "    model.compile(optimizer='adam', loss='mean_squared_error', metrics=['accuracy'])\n",
    "\n",
    "    # Modeli eğit\n",
    "    history = model.fit(X_train, y_train, epochs=10, batch_size=32, validation_data=(X_test, y_test))\n",
    "    \n",
    "    # Eğitim ve doğrulama başarım grafiğini çiz\n",
    "    plot_training_accuracy(history)\n",
    "    \n",
    "    # Eğitim ve test kayıplarını ölç\n",
    "    train_loss, train_accuracy = model.evaluate(X_train, y_train, batch_size=32, verbose=0)\n",
    "    test_loss, test_accuracy = model.evaluate(X_test, y_test, batch_size=32, verbose=0)\n",
    "\n",
    "    print(f\"Eğitim Başarımı: {train_accuracy:.4f}, Test Başarımı: {test_accuracy:.4f}\")\n",
    "    \n",
    "    return model, scaler, X_test, y_test, train_loss, test_loss, train_accuracy, test_accuracy\n"
   ]
  },
  {
   "cell_type": "code",
   "execution_count": 46,
   "id": "73f508bf",
   "metadata": {},
   "outputs": [],
   "source": [
    "# Tahmin yapma\n",
    "def make_prediction(model, scaler, symbol, start_date=\"2023-01-01\", end_date=adjust_end_date()):\n",
    "    data = get_stock_data(symbol, start_date, end_date)\n",
    "    recent_data = data.values[-60:]\n",
    "    scaled_data = scaler.transform(recent_data.reshape(-1, 1))\n",
    "    X_input = scaled_data.reshape(1, 60, 1)\n",
    "    predicted_price = model.predict(X_input)\n",
    "    predicted_price = scaler.inverse_transform(predicted_price)\n",
    "    return predicted_price[0][0]"
   ]
  },
  {
   "cell_type": "code",
   "execution_count": 47,
   "id": "0adfd9b1",
   "metadata": {},
   "outputs": [],
   "source": [
    "# Performans metriklerini tabloya ekleme\n",
    "def calculate_metrics(model, X_test, y_test):\n",
    "    predictions = model.predict(X_test)\n",
    "    mse = mean_squared_error(y_test, predictions)\n",
    "    rmse = np.sqrt(mse)\n",
    "    f1 = f1_score((y_test > 0.5).astype(int), (predictions > 0.5).astype(int), average=\"weighted\")\n",
    "    \n",
    "    # Performans tablosu\n",
    "    metrics = {\n",
    "        \"Metrik\": [\"MSE\", \"RMSE\", \"F1 Skor\"],\n",
    "        \"Değer\": [mse, rmse, f1]\n",
    "    }\n",
    "    df = pd.DataFrame(metrics)\n",
    "    print(df)\n",
    "    return df"
   ]
  },
  {
   "cell_type": "code",
   "execution_count": 48,
   "id": "a1512cc8",
   "metadata": {},
   "outputs": [
    {
     "name": "stdin",
     "output_type": "stream",
     "text": [
      "Tahmin yapmak istediğiniz hisse senedi sembolünü girin (örneğin, AAPL):  AAPL\n"
     ]
    }
   ],
   "source": [
    "# Ana akış\n",
    "symbol = input(\"Tahmin yapmak istediğiniz hisse senedi sembolünü girin (örneğin, AAPL): \")"
   ]
  },
  {
   "cell_type": "code",
   "execution_count": 49,
   "id": "66f6196b",
   "metadata": {},
   "outputs": [
    {
     "name": "stderr",
     "output_type": "stream",
     "text": [
      "[*********************100%***********************]  1 of 1 completed"
     ]
    },
    {
     "name": "stdout",
     "output_type": "stream",
     "text": [
      "Epoch 1/10\n"
     ]
    },
    {
     "name": "stderr",
     "output_type": "stream",
     "text": [
      "\n",
      "C:\\Users\\Yusuf\\anaconda3\\Lib\\site-packages\\keras\\src\\layers\\rnn\\rnn.py:200: UserWarning: Do not pass an `input_shape`/`input_dim` argument to a layer. When using Sequential models, prefer using an `Input(shape)` object as the first layer in the model instead.\n",
      "  super().__init__(**kwargs)\n"
     ]
    },
    {
     "name": "stdout",
     "output_type": "stream",
     "text": [
      "\u001b[1m11/11\u001b[0m \u001b[32m━━━━━━━━━━━━━━━━━━━━\u001b[0m\u001b[37m\u001b[0m \u001b[1m3s\u001b[0m 48ms/step - accuracy: 0.0000e+00 - loss: 0.0629 - val_accuracy: 0.0256 - val_loss: 0.0293\n",
      "Epoch 2/10\n",
      "\u001b[1m11/11\u001b[0m \u001b[32m━━━━━━━━━━━━━━━━━━━━\u001b[0m\u001b[37m\u001b[0m \u001b[1m0s\u001b[0m 22ms/step - accuracy: 0.0000e+00 - loss: 0.0090 - val_accuracy: 0.0256 - val_loss: 0.0106\n",
      "Epoch 3/10\n",
      "\u001b[1m11/11\u001b[0m \u001b[32m━━━━━━━━━━━━━━━━━━━━\u001b[0m\u001b[37m\u001b[0m \u001b[1m0s\u001b[0m 25ms/step - accuracy: 0.0000e+00 - loss: 0.0046 - val_accuracy: 0.0256 - val_loss: 0.0153\n",
      "Epoch 4/10\n",
      "\u001b[1m11/11\u001b[0m \u001b[32m━━━━━━━━━━━━━━━━━━━━\u001b[0m\u001b[37m\u001b[0m \u001b[1m0s\u001b[0m 24ms/step - accuracy: 0.0000e+00 - loss: 0.0030 - val_accuracy: 0.0256 - val_loss: 0.0099\n",
      "Epoch 5/10\n",
      "\u001b[1m11/11\u001b[0m \u001b[32m━━━━━━━━━━━━━━━━━━━━\u001b[0m\u001b[37m\u001b[0m \u001b[1m0s\u001b[0m 22ms/step - accuracy: 0.0000e+00 - loss: 0.0028 - val_accuracy: 0.0256 - val_loss: 0.0106\n",
      "Epoch 6/10\n",
      "\u001b[1m11/11\u001b[0m \u001b[32m━━━━━━━━━━━━━━━━━━━━\u001b[0m\u001b[37m\u001b[0m \u001b[1m0s\u001b[0m 22ms/step - accuracy: 0.0000e+00 - loss: 0.0028 - val_accuracy: 0.0256 - val_loss: 0.0071\n",
      "Epoch 7/10\n",
      "\u001b[1m11/11\u001b[0m \u001b[32m━━━━━━━━━━━━━━━━━━━━\u001b[0m\u001b[37m\u001b[0m \u001b[1m0s\u001b[0m 21ms/step - accuracy: 0.0000e+00 - loss: 0.0024 - val_accuracy: 0.0256 - val_loss: 0.0058\n",
      "Epoch 8/10\n",
      "\u001b[1m11/11\u001b[0m \u001b[32m━━━━━━━━━━━━━━━━━━━━\u001b[0m\u001b[37m\u001b[0m \u001b[1m0s\u001b[0m 23ms/step - accuracy: 0.0000e+00 - loss: 0.0024 - val_accuracy: 0.0256 - val_loss: 0.0064\n",
      "Epoch 9/10\n",
      "\u001b[1m11/11\u001b[0m \u001b[32m━━━━━━━━━━━━━━━━━━━━\u001b[0m\u001b[37m\u001b[0m \u001b[1m0s\u001b[0m 23ms/step - accuracy: 0.0000e+00 - loss: 0.0026 - val_accuracy: 0.0256 - val_loss: 0.0034\n",
      "Epoch 10/10\n",
      "\u001b[1m11/11\u001b[0m \u001b[32m━━━━━━━━━━━━━━━━━━━━\u001b[0m\u001b[37m\u001b[0m \u001b[1m0s\u001b[0m 22ms/step - accuracy: 0.0000e+00 - loss: 0.0021 - val_accuracy: 0.0256 - val_loss: 0.0046\n"
     ]
    },
    {
     "data": {
      "image/png": "[encoded data removed]",
      "text/plain": [
       "<Figure size 1000x600 with 1 Axes>"
      ]
     },
     "metadata": {},
     "output_type": "display_data"
    },
    {
     "name": "stdout",
     "output_type": "stream",
     "text": [
      "Eğitim Başarımı: 0.0000, Test Başarımı: 0.0256\n"
     ]
    },
    {
     "ename": "ValueError",
     "evalue": "too many values to unpack (expected 6)",
     "output_type": "error",
     "traceback": [
      "\u001b[1;31m---------------------------------------------------------------------------\u001b[0m",
      "\u001b[1;31mValueError\u001b[0m                                Traceback (most recent call last)",
      "Cell \u001b[1;32mIn[49], line 2\u001b[0m\n\u001b[0;32m      1\u001b[0m \u001b[38;5;66;03m# Modeli eğit\u001b[39;00m\n\u001b[1;32m----> 2\u001b[0m model, scaler, X_test, y_test, train_loss, test_loss \u001b[38;5;241m=\u001b[39m train_model(symbol)\n",
      "\u001b[1;31mValueError\u001b[0m: too many values to unpack (expected 6)"
     ]
    }
   ],
   "source": [
    "# Modeli eğit\n",
    "model, scaler, X_test, y_test, train_loss, test_loss = train_model(symbol)"
   ]
  },
  {
   "cell_type": "code",
   "execution_count": 19,
   "id": "228a037a",
   "metadata": {},
   "outputs": [
    {
     "name": "stderr",
     "output_type": "stream",
     "text": [
      "[*********************100%***********************]  1 of 1 completed\n"
     ]
    },
    {
     "name": "stdout",
     "output_type": "stream",
     "text": [
      "\u001b[1m1/1\u001b[0m \u001b[32m━━━━━━━━━━━━━━━━━━━━\u001b[0m\u001b[37m\u001b[0m \u001b[1m0s\u001b[0m 210ms/step\n",
      "AAPL için tahmin edilen fiyat: 249.08 USD\n"
     ]
    }
   ],
   "source": [
    "# Tahmin yap\n",
    "predicted_price = make_prediction(model, scaler, symbol)\n",
    "print(f\"{symbol} için tahmin edilen fiyat: {predicted_price:.2f} USD\")"
   ]
  },
  {
   "cell_type": "code",
   "execution_count": 20,
   "id": "20c3103b-5697-4433-a88e-d8c884045c4c",
   "metadata": {},
   "outputs": [
    {
     "name": "stdout",
     "output_type": "stream",
     "text": [
      "\u001b[1m2/2\u001b[0m \u001b[32m━━━━━━━━━━━━━━━━━━━━\u001b[0m\u001b[37m\u001b[0m \u001b[1m0s\u001b[0m 19ms/step \n",
      "    Metrik     Değer\n",
      "0      MSE  0.001282\n",
      "1     RMSE  0.035800\n",
      "2  F1 Skor  1.000000\n"
     ]
    }
   ],
   "source": [
    "# Performans metriklerini hesapla\n",
    "performance_table = calculate_metrics(model, X_test, y_test)"
   ]
  },
  {
   "cell_type": "code",
   "execution_count": null,
   "id": "d8d1564e-82a3-4085-bdf6-29873c1d8518",
   "metadata": {},
   "outputs": [],
   "source": []
  }
 ],
 "metadata": {
  "kernelspec": {
   "display_name": "Python 3 (ipykernel)",
   "language": "python",
   "name": "python3"
  },
  "language_info": {
   "codemirror_mode": {
    "name": "ipython",
    "version": 3
   },
   "file_extension": ".py",
   "mimetype": "text/x-python",
   "name": "python",
   "nbconvert_exporter": "python",
   "pygments_lexer": "ipython3",
   "version": "3.12.7"
  }
 },
 "nbformat": 4,
 "nbformat_minor": 5
}
